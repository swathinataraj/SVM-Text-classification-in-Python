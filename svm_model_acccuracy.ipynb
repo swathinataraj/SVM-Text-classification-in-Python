{
 "cells": [
  {
   "cell_type": "code",
   "execution_count": 1,
   "metadata": {},
   "outputs": [],
   "source": [
    "import pandas as pd"
   ]
  },
  {
   "cell_type": "code",
   "execution_count": 2,
   "metadata": {},
   "outputs": [
    {
     "name": "stderr",
     "output_type": "stream",
     "text": [
      "/usr/local/lib/python3.5/dist-packages/sklearn/cross_validation.py:41: DeprecationWarning: This module was deprecated in version 0.18 in favor of the model_selection module into which all the refactored classes and functions are moved. Also note that the interface of the new CV iterators are different from that of this module. This module will be removed in 0.20.\n",
      "  \"This module will be removed in 0.20.\", DeprecationWarning)\n"
     ]
    }
   ],
   "source": [
    "from sklearn import metrics\n",
    "from sklearn.svm import LinearSVC\n",
    "from sklearn.linear_model import Perceptron\n",
    "from sklearn.linear_model import SGDClassifier\n",
    "from sklearn.linear_model import LogisticRegression\n",
    "from sklearn.cross_validation import train_test_split\n",
    "from sklearn.feature_extraction.text import CountVectorizer"
   ]
  },
  {
   "cell_type": "code",
   "execution_count": 6,
   "metadata": {},
   "outputs": [],
   "source": [
    "#Reading csv file from train tokens\n",
    "mydata = pd.read_csv(\"train_tokens.csv\", index_col = 0)"
   ]
  },
  {
   "cell_type": "code",
   "execution_count": 8,
   "metadata": {},
   "outputs": [
    {
     "data": {
      "text/html": [
       "<div>\n",
       "<style scoped>\n",
       "    .dataframe tbody tr th:only-of-type {\n",
       "        vertical-align: middle;\n",
       "    }\n",
       "\n",
       "    .dataframe tbody tr th {\n",
       "        vertical-align: top;\n",
       "    }\n",
       "\n",
       "    .dataframe thead th {\n",
       "        text-align: right;\n",
       "    }\n",
       "</style>\n",
       "<table border=\"1\" class=\"dataframe\">\n",
       "  <thead>\n",
       "    <tr style=\"text-align: right;\">\n",
       "      <th></th>\n",
       "      <th>aap</th>\n",
       "      <th>abc</th>\n",
       "      <th>abc_new</th>\n",
       "      <th>abil</th>\n",
       "      <th>aborigin</th>\n",
       "      <th>absolut</th>\n",
       "      <th>abus</th>\n",
       "      <th>accept</th>\n",
       "      <th>access</th>\n",
       "      <th>accid</th>\n",
       "      <th>...</th>\n",
       "      <th>wound</th>\n",
       "      <th>write</th>\n",
       "      <th>written</th>\n",
       "      <th>wrong</th>\n",
       "      <th>year</th>\n",
       "      <th>years_ago</th>\n",
       "      <th>yesterday</th>\n",
       "      <th>young</th>\n",
       "      <th>zone</th>\n",
       "      <th>class_id</th>\n",
       "    </tr>\n",
       "  </thead>\n",
       "  <tbody>\n",
       "    <tr>\n",
       "      <th>0</th>\n",
       "      <td>0.0</td>\n",
       "      <td>0.0</td>\n",
       "      <td>0.0</td>\n",
       "      <td>0.0</td>\n",
       "      <td>0.0</td>\n",
       "      <td>0.0</td>\n",
       "      <td>0.0</td>\n",
       "      <td>0.0</td>\n",
       "      <td>0.0</td>\n",
       "      <td>0.000000</td>\n",
       "      <td>...</td>\n",
       "      <td>0.0</td>\n",
       "      <td>0.0</td>\n",
       "      <td>0.0</td>\n",
       "      <td>0.0</td>\n",
       "      <td>0.000000</td>\n",
       "      <td>0.0</td>\n",
       "      <td>0.000000</td>\n",
       "      <td>0.218998</td>\n",
       "      <td>0.0</td>\n",
       "      <td>C1</td>\n",
       "    </tr>\n",
       "    <tr>\n",
       "      <th>1</th>\n",
       "      <td>0.0</td>\n",
       "      <td>0.0</td>\n",
       "      <td>0.0</td>\n",
       "      <td>0.0</td>\n",
       "      <td>0.0</td>\n",
       "      <td>0.0</td>\n",
       "      <td>0.0</td>\n",
       "      <td>0.0</td>\n",
       "      <td>0.0</td>\n",
       "      <td>0.000000</td>\n",
       "      <td>...</td>\n",
       "      <td>0.0</td>\n",
       "      <td>0.0</td>\n",
       "      <td>0.0</td>\n",
       "      <td>0.0</td>\n",
       "      <td>0.062848</td>\n",
       "      <td>0.0</td>\n",
       "      <td>0.000000</td>\n",
       "      <td>0.000000</td>\n",
       "      <td>0.0</td>\n",
       "      <td>C1</td>\n",
       "    </tr>\n",
       "    <tr>\n",
       "      <th>2</th>\n",
       "      <td>0.0</td>\n",
       "      <td>0.0</td>\n",
       "      <td>0.0</td>\n",
       "      <td>0.0</td>\n",
       "      <td>0.0</td>\n",
       "      <td>0.0</td>\n",
       "      <td>0.0</td>\n",
       "      <td>0.0</td>\n",
       "      <td>0.0</td>\n",
       "      <td>0.000000</td>\n",
       "      <td>...</td>\n",
       "      <td>0.0</td>\n",
       "      <td>0.0</td>\n",
       "      <td>0.0</td>\n",
       "      <td>0.0</td>\n",
       "      <td>0.104712</td>\n",
       "      <td>0.0</td>\n",
       "      <td>0.000000</td>\n",
       "      <td>0.000000</td>\n",
       "      <td>0.0</td>\n",
       "      <td>C1</td>\n",
       "    </tr>\n",
       "    <tr>\n",
       "      <th>3</th>\n",
       "      <td>0.0</td>\n",
       "      <td>0.0</td>\n",
       "      <td>0.0</td>\n",
       "      <td>0.0</td>\n",
       "      <td>0.0</td>\n",
       "      <td>0.0</td>\n",
       "      <td>0.0</td>\n",
       "      <td>0.0</td>\n",
       "      <td>0.0</td>\n",
       "      <td>0.280534</td>\n",
       "      <td>...</td>\n",
       "      <td>0.0</td>\n",
       "      <td>0.0</td>\n",
       "      <td>0.0</td>\n",
       "      <td>0.0</td>\n",
       "      <td>0.000000</td>\n",
       "      <td>0.0</td>\n",
       "      <td>0.114205</td>\n",
       "      <td>0.000000</td>\n",
       "      <td>0.0</td>\n",
       "      <td>C1</td>\n",
       "    </tr>\n",
       "    <tr>\n",
       "      <th>4</th>\n",
       "      <td>0.0</td>\n",
       "      <td>0.0</td>\n",
       "      <td>0.0</td>\n",
       "      <td>0.0</td>\n",
       "      <td>0.0</td>\n",
       "      <td>0.0</td>\n",
       "      <td>0.0</td>\n",
       "      <td>0.0</td>\n",
       "      <td>0.0</td>\n",
       "      <td>0.000000</td>\n",
       "      <td>...</td>\n",
       "      <td>0.0</td>\n",
       "      <td>0.0</td>\n",
       "      <td>0.0</td>\n",
       "      <td>0.0</td>\n",
       "      <td>0.000000</td>\n",
       "      <td>0.0</td>\n",
       "      <td>0.000000</td>\n",
       "      <td>0.000000</td>\n",
       "      <td>0.0</td>\n",
       "      <td>C1</td>\n",
       "    </tr>\n",
       "  </tbody>\n",
       "</table>\n",
       "<p>5 rows × 1376 columns</p>\n",
       "</div>"
      ],
      "text/plain": [
       "   aap  abc  abc_new  abil  aborigin  absolut  abus  accept  access     accid  \\\n",
       "0  0.0  0.0      0.0   0.0       0.0      0.0   0.0     0.0     0.0  0.000000   \n",
       "1  0.0  0.0      0.0   0.0       0.0      0.0   0.0     0.0     0.0  0.000000   \n",
       "2  0.0  0.0      0.0   0.0       0.0      0.0   0.0     0.0     0.0  0.000000   \n",
       "3  0.0  0.0      0.0   0.0       0.0      0.0   0.0     0.0     0.0  0.280534   \n",
       "4  0.0  0.0      0.0   0.0       0.0      0.0   0.0     0.0     0.0  0.000000   \n",
       "\n",
       "     ...     wound  write  written  wrong      year  years_ago  yesterday  \\\n",
       "0    ...       0.0    0.0      0.0    0.0  0.000000        0.0   0.000000   \n",
       "1    ...       0.0    0.0      0.0    0.0  0.062848        0.0   0.000000   \n",
       "2    ...       0.0    0.0      0.0    0.0  0.104712        0.0   0.000000   \n",
       "3    ...       0.0    0.0      0.0    0.0  0.000000        0.0   0.114205   \n",
       "4    ...       0.0    0.0      0.0    0.0  0.000000        0.0   0.000000   \n",
       "\n",
       "      young  zone  class_id  \n",
       "0  0.218998   0.0        C1  \n",
       "1  0.000000   0.0        C1  \n",
       "2  0.000000   0.0        C1  \n",
       "3  0.000000   0.0        C1  \n",
       "4  0.000000   0.0        C1  \n",
       "\n",
       "[5 rows x 1376 columns]"
      ]
     },
     "execution_count": 8,
     "metadata": {},
     "output_type": "execute_result"
    }
   ],
   "source": [
    "mydata.head()"
   ]
  },
  {
   "cell_type": "code",
   "execution_count": 9,
   "metadata": {},
   "outputs": [
    {
     "data": {
      "text/plain": [
       "(106445, 1376)"
      ]
     },
     "execution_count": 9,
     "metadata": {},
     "output_type": "execute_result"
    }
   ],
   "source": [
    "mydata.shape"
   ]
  },
  {
   "cell_type": "code",
   "execution_count": 11,
   "metadata": {},
   "outputs": [],
   "source": [
    "c1 = mydata[mydata['class_id'] == \"C1\"]\n",
    "c2 = mydata[mydata['class_id'] == \"C2\"]\n",
    "c3 = mydata[mydata['class_id'] == \"C3\"]\n",
    "c4 = mydata[mydata['class_id'] == \"C4\"]\n",
    "c5 = mydata[mydata['class_id'] == \"C5\"]\n",
    "c6 = mydata[mydata['class_id'] == \"C6\"]\n",
    "c7 = mydata[mydata['class_id'] == \"C7\"]\n",
    "c8 = mydata[mydata['class_id'] == \"C8\"]\n",
    "c9 = mydata[mydata['class_id'] == \"C9\"]\n",
    "c10 = mydata[mydata['class_id'] == \"C10\"]\n"
   ]
  },
  {
   "cell_type": "code",
   "execution_count": 12,
   "metadata": {},
   "outputs": [],
   "source": [
    "c11 = mydata[mydata['class_id'] == \"C11\"]\n",
    "c12 = mydata[mydata['class_id'] == \"C12\"]\n",
    "c13 = mydata[mydata['class_id'] == \"C13\"]\n",
    "c14 = mydata[mydata['class_id'] == \"C14\"]\n",
    "c15 = mydata[mydata['class_id'] == \"C15\"]\n",
    "c16 = mydata[mydata['class_id'] == \"C16\"]\n",
    "c17 = mydata[mydata['class_id'] == \"C17\"]\n",
    "c18 = mydata[mydata['class_id'] == \"C18\"]\n",
    "c19 = mydata[mydata['class_id'] == \"C19\"]\n",
    "c20 = mydata[mydata['class_id'] == \"C20\"]\n",
    "c21 = mydata[mydata['class_id'] == \"C21\"]\n",
    "c22 = mydata[mydata['class_id'] == \"C22\"]\n",
    "c23 = mydata[mydata['class_id'] == \"C23\"]"
   ]
  },
  {
   "cell_type": "code",
   "execution_count": 13,
   "metadata": {},
   "outputs": [],
   "source": [
    "#Taking 80$ of the samples from each class labels\n",
    "samp_c1 = c1.sample(frac=0.8, replace=False)\n",
    "samp_c2 = c2.sample(frac=0.8, replace=False)\n",
    "samp_c3 = c3.sample(frac=0.8, replace=False)\n",
    "samp_c4 = c4.sample(frac=0.8, replace=False)\n",
    "samp_c5 = c5.sample(frac=0.8, replace=False)\n",
    "samp_c6 = c6.sample(frac=0.8, replace=False)\n",
    "samp_c7 = c7.sample(frac=0.8, replace=False)\n",
    "samp_c8 = c8.sample(frac=0.8, replace=False)\n",
    "samp_c9 = c9.sample(frac=0.8, replace=False)\n",
    "samp_c10 = c10.sample(frac=0.8, replace=False)\n",
    "samp_c11 = c11.sample(frac=0.8, replace=False)\n"
   ]
  },
  {
   "cell_type": "code",
   "execution_count": 17,
   "metadata": {},
   "outputs": [],
   "source": [
    "\n",
    "samp_c12 = c12.sample(frac=0.8, replace=False)\n",
    "samp_c13 = c13.sample(frac=0.8, replace=False)\n",
    "samp_c14 = c14.sample(frac=0.8, replace=False)\n",
    "samp_c15 = c15.sample(frac=0.8, replace=False)\n",
    "samp_c16 = c16.sample(frac=0.8, replace=False)\n",
    "samp_c17 = c17.sample(frac=0.8, replace=False)\n",
    "samp_c18 = c18.sample(frac=0.8, replace=False)\n",
    "samp_c19 = c19.sample(frac=0.8, replace=False)\n",
    "samp_c20 = c20.sample(frac=0.8, replace=False)\n",
    "samp_c21 = c21.sample(frac=0.8, replace=False)\n",
    "samp_c22 = c22.sample(frac=0.8, replace=False)\n",
    "samp_c23 = c23.sample(frac=0.8, replace=False)\n"
   ]
  },
  {
   "cell_type": "code",
   "execution_count": 18,
   "metadata": {},
   "outputs": [],
   "source": [
    "#Merging all each of the sampled data frame into one big data frame`\n",
    "mydata1 = samp_c1.append([samp_c2,samp_c3,samp_c4,samp_c5,samp_c6,samp_c7,samp_c8,samp_c9,samp_c10,samp_c11,\n",
    "                    samp_c12,samp_c13,samp_c14,samp_c15,samp_c16,samp_c17,samp_c18,samp_c19,samp_c20,samp_c21,\n",
    "                     samp_c22,samp_c23])\n"
   ]
  },
  {
   "cell_type": "code",
   "execution_count": 20,
   "metadata": {},
   "outputs": [],
   "source": [
    "id1 = mydata.index.values "
   ]
  },
  {
   "cell_type": "code",
   "execution_count": null,
   "metadata": {},
   "outputs": [],
   "source": []
  },
  {
   "cell_type": "code",
   "execution_count": 21,
   "metadata": {},
   "outputs": [],
   "source": [
    "id2 = mydata1.index.values"
   ]
  },
  {
   "cell_type": "code",
   "execution_count": 22,
   "metadata": {},
   "outputs": [
    {
     "name": "stdout",
     "output_type": "stream",
     "text": [
      "85156\n"
     ]
    }
   ],
   "source": [
    "print(len(set(id2)))"
   ]
  },
  {
   "cell_type": "code",
   "execution_count": 23,
   "metadata": {},
   "outputs": [],
   "source": [
    "diff_id = list(set(id1) - set(id2))"
   ]
  },
  {
   "cell_type": "code",
   "execution_count": 24,
   "metadata": {},
   "outputs": [],
   "source": [
    "#print(diff_id)"
   ]
  },
  {
   "cell_type": "code",
   "execution_count": 25,
   "metadata": {},
   "outputs": [],
   "source": [
    "#diff_id = set(diff_id)"
   ]
  },
  {
   "cell_type": "code",
   "execution_count": 26,
   "metadata": {},
   "outputs": [],
   "source": [
    "diff_id.sort()"
   ]
  },
  {
   "cell_type": "code",
   "execution_count": 28,
   "metadata": {},
   "outputs": [],
   "source": [
    "# Making the remaining 20% of the train data as test data to check for accuracy\n",
    "testdata1 = mydata.iloc[diff_id,]"
   ]
  },
  {
   "cell_type": "code",
   "execution_count": 29,
   "metadata": {},
   "outputs": [
    {
     "data": {
      "text/plain": [
       "(21289, 1376)"
      ]
     },
     "execution_count": 29,
     "metadata": {},
     "output_type": "execute_result"
    }
   ],
   "source": [
    "testdata1.shape"
   ]
  },
  {
   "cell_type": "code",
   "execution_count": 30,
   "metadata": {},
   "outputs": [],
   "source": [
    "#Shuffling sample test data\n",
    "testdata1 = testdata1.sample(frac=1, replace=False)\n"
   ]
  },
  {
   "cell_type": "code",
   "execution_count": 31,
   "metadata": {},
   "outputs": [
    {
     "data": {
      "text/plain": [
       "(106445, 1376)"
      ]
     },
     "execution_count": 31,
     "metadata": {},
     "output_type": "execute_result"
    }
   ],
   "source": [
    "mydata.shape"
   ]
  },
  {
   "cell_type": "code",
   "execution_count": 32,
   "metadata": {},
   "outputs": [
    {
     "data": {
      "text/plain": [
       "(21289, 1376)"
      ]
     },
     "execution_count": 32,
     "metadata": {},
     "output_type": "execute_result"
    }
   ],
   "source": [
    "testdata1.shape"
   ]
  },
  {
   "cell_type": "code",
   "execution_count": 33,
   "metadata": {},
   "outputs": [],
   "source": [
    "#mydata1"
   ]
  },
  {
   "cell_type": "code",
   "execution_count": 42,
   "metadata": {},
   "outputs": [],
   "source": [
    "train_labels = mydata1['class_id']"
   ]
  },
  {
   "cell_type": "code",
   "execution_count": 55,
   "metadata": {},
   "outputs": [
    {
     "data": {
      "text/plain": [
       "3563       C1\n",
       "728        C1\n",
       "471        C1\n",
       "706        C1\n",
       "82         C1\n",
       "1899       C1\n",
       "2866       C1\n",
       "1691       C1\n",
       "2180       C1\n",
       "992        C1\n",
       "2663       C1\n",
       "3905       C1\n",
       "1320       C1\n",
       "3330       C1\n",
       "507        C1\n",
       "309        C1\n",
       "128        C1\n",
       "2271       C1\n",
       "1707       C1\n",
       "2614       C1\n",
       "1959       C1\n",
       "404        C1\n",
       "1750       C1\n",
       "3494       C1\n",
       "2201       C1\n",
       "2601       C1\n",
       "419        C1\n",
       "3149       C1\n",
       "227        C1\n",
       "2454       C1\n",
       "         ... \n",
       "102989    C23\n",
       "106071    C23\n",
       "104898    C23\n",
       "102379    C23\n",
       "104118    C23\n",
       "105458    C23\n",
       "105276    C23\n",
       "105034    C23\n",
       "104925    C23\n",
       "102199    C23\n",
       "102937    C23\n",
       "103427    C23\n",
       "105785    C23\n",
       "103376    C23\n",
       "104463    C23\n",
       "103690    C23\n",
       "102687    C23\n",
       "104793    C23\n",
       "104048    C23\n",
       "106091    C23\n",
       "104840    C23\n",
       "105130    C23\n",
       "105397    C23\n",
       "106145    C23\n",
       "104625    C23\n",
       "104819    C23\n",
       "104221    C23\n",
       "105986    C23\n",
       "102572    C23\n",
       "103475    C23\n",
       "Name: class_id, Length: 85156, dtype: object"
      ]
     },
     "execution_count": 55,
     "metadata": {},
     "output_type": "execute_result"
    }
   ],
   "source": [
    "#train_labels"
   ]
  },
  {
   "cell_type": "code",
   "execution_count": 44,
   "metadata": {},
   "outputs": [],
   "source": [
    "#Getting train features\n",
    "features = mydata1.iloc[:, :-1]"
   ]
  },
  {
   "cell_type": "code",
   "execution_count": 50,
   "metadata": {},
   "outputs": [],
   "source": [
    "#Getting test labels\n",
    "test_labels = pd.DataFrame(testdata1['class_id'])"
   ]
  },
  {
   "cell_type": "code",
   "execution_count": 51,
   "metadata": {},
   "outputs": [],
   "source": [
    "#Getting test features\n",
    "test_features = testdata1.iloc[:, :-1]"
   ]
  },
  {
   "cell_type": "code",
   "execution_count": 52,
   "metadata": {},
   "outputs": [],
   "source": [
    "# calling LinearSVM function\n",
    "svm = LinearSVC()"
   ]
  },
  {
   "cell_type": "code",
   "execution_count": 53,
   "metadata": {},
   "outputs": [
    {
     "data": {
      "text/plain": [
       "(85156,)"
      ]
     },
     "execution_count": 53,
     "metadata": {},
     "output_type": "execute_result"
    }
   ],
   "source": [
    "train_labels.shape"
   ]
  },
  {
   "cell_type": "code",
   "execution_count": 54,
   "metadata": {},
   "outputs": [
    {
     "data": {
      "text/plain": [
       "(85156, 1375)"
      ]
     },
     "execution_count": 54,
     "metadata": {},
     "output_type": "execute_result"
    }
   ],
   "source": [
    "features.shape"
   ]
  },
  {
   "cell_type": "code",
   "execution_count": 57,
   "metadata": {},
   "outputs": [],
   "source": [
    "#fitting the svm model on train data\n",
    "model = svm.fit(features, train_labels)"
   ]
  },
  {
   "cell_type": "code",
   "execution_count": 58,
   "metadata": {},
   "outputs": [],
   "source": [
    "#Predicting the class labels\n",
    "y_pred_class_svm = svm.predict(test_features)"
   ]
  },
  {
   "cell_type": "code",
   "execution_count": 59,
   "metadata": {},
   "outputs": [
    {
     "data": {
      "text/plain": [
       "array(['C11', 'C13', 'C7', ..., 'C7', 'C6', 'C22'], dtype=object)"
      ]
     },
     "execution_count": 59,
     "metadata": {},
     "output_type": "execute_result"
    }
   ],
   "source": [
    "y_pred_class_svm"
   ]
  },
  {
   "cell_type": "code",
   "execution_count": 61,
   "metadata": {},
   "outputs": [],
   "source": [
    "import numpy as np"
   ]
  },
  {
   "cell_type": "code",
   "execution_count": 62,
   "metadata": {},
   "outputs": [
    {
     "name": "stdout",
     "output_type": "stream",
     "text": [
      "Support Vector Machine Accuracy: 72.43\n"
     ]
    }
   ],
   "source": [
    "print(\"Support Vector Machine Accuracy:\",np.round(metrics.accuracy_score(test_labels, y_pred_class_svm) * 100,2))"
   ]
  },
  {
   "cell_type": "code",
   "execution_count": null,
   "metadata": {},
   "outputs": [],
   "source": []
  }
 ],
 "metadata": {
  "kernelspec": {
   "display_name": "Python 3",
   "language": "python",
   "name": "python3"
  },
  "language_info": {
   "codemirror_mode": {
    "name": "ipython",
    "version": 3
   },
   "file_extension": ".py",
   "mimetype": "text/x-python",
   "name": "python",
   "nbconvert_exporter": "python",
   "pygments_lexer": "ipython3",
   "version": "3.5.2"
  }
 },
 "nbformat": 4,
 "nbformat_minor": 2
}
